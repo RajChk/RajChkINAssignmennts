{
 "cells": [
  {
   "cell_type": "markdown",
   "id": "5d2a2bb9",
   "metadata": {},
   "source": [
    "1. In the below elements which of them are values or an expression? eg:- values can be\n",
    "integer or string and expressions will be mathematical operators.\n",
    "*\n",
    "'hello'\n",
    "-87.8\n",
    "-\n",
    "/\n",
    "+\n",
    "6\n",
    "\n",
    "\n",
    "Answer ------\n",
    "Expressions are \n",
    "*\n",
    "-\n",
    "/\n",
    "+\n",
    "\n",
    "\n",
    "Values are \n",
    "'hello'\n",
    "-87.8\n",
    "6\n"
   ]
  },
  {
   "cell_type": "markdown",
   "id": "bff2b405",
   "metadata": {},
   "source": [
    "2. What is the difference between string and variable?\n",
    "\n",
    "Answer -------\n",
    "    Difference netween String and Variable is \n",
    "    String is a Data Type that stores a sequence of elements, typically characters, using some character encoding.\n",
    "    \n",
    "    Variable is a reserved memory location that is used to store different values inside them."
   ]
  },
  {
   "cell_type": "markdown",
   "id": "0c550307",
   "metadata": {},
   "source": [
    "3. Describe three different data types.\n",
    "\n",
    "\n",
    "Answer----\n",
    "\n",
    "int - Used to define numeric variables holding values [positive or negative whole numbers without a fractional part]--e.g. 0, 100, -10.\n",
    "\n",
    "Strings are sequences of character data. The string type in Python is called str.\n",
    "\n",
    "Boolean - Built-in data type provided by Python, which represents one of the two values i.e. True or False."
   ]
  },
  {
   "cell_type": "markdown",
   "id": "79f50104",
   "metadata": {},
   "source": [
    "4. What is an expression made up of? What do all expressions do?\n",
    "\n",
    "\n",
    "Answer--------\n",
    "\n",
    "An expression is a construct made up of variables, operators, and method invocations, which are constructed according to the syntax of the language, that evaluates to a single value.\n",
    "An expression is a combination of values, variables, operators, and calls to functions. Expressions need to be evaluated. If you ask Python to print an expression, the interpreter evaluates the expression and displays the result."
   ]
  },
  {
   "cell_type": "markdown",
   "id": "401bed05",
   "metadata": {},
   "source": [
    "5. This assignment statements, like spam = 10. What is the difference between an expression\n",
    "and a statement?\n",
    "\n",
    "Answer----\n",
    "\n",
    "Expressions only contain identifiers, literals and operators, where operators include arithmetic and boolean operators, the function call operator () the subscription operator [] and similar, and can be reduced to some kind of \"value\", which can be any Python object. \n",
    "\n",
    "Statements on the other hand, are everything that can make up a line (or several lines) of Python code. Note that expressions are statements as well.\n",
    "\n",
    "What is expression and statement?\n",
    "An expression is any legal combination of symbols that represents a value. For example, 2.9, a + 5, (3 + 5) / 4. A statement is a programming instruction that does something i.e. some action takes place. For example: print(\"Hello\")\n",
    "\n",
    "W.r.t. above question ---\n",
    "spam=10 is a staement"
   ]
  },
  {
   "cell_type": "markdown",
   "id": "e28cc94a",
   "metadata": {},
   "source": [
    "6. After running the following code, what does the variable bacon contain?\n",
    "bacon = 22\n",
    "bacon + 1\n",
    "\n",
    "Answer----- 23\n",
    "\n"
   ]
  },
  {
   "cell_type": "markdown",
   "id": "44faba50",
   "metadata": {},
   "source": [
    "7. What should the values of the following two terms be?\n",
    "'spam' + 'spamspam'\n",
    "'spam' * 3\n",
    "\n",
    "Answer----\n",
    "Both yield same values\n",
    "spamspamspam"
   ]
  },
  {
   "cell_type": "markdown",
   "id": "27f83ff8",
   "metadata": {},
   "source": [
    "8. Why is eggs a valid variable name while 100 is invalid?\n",
    "\n",
    "Answer-----\n",
    "\n",
    "100 is an invalid variable name as we cannot declare variable names as integer only values.\n",
    "But we can declare eggs100 as a variable .\n"
   ]
  },
  {
   "cell_type": "markdown",
   "id": "69b138e2",
   "metadata": {},
   "source": [
    "9. What three functions can be used to get the integer, floating-point number, or string\n",
    "version of a value?\n",
    "\n",
    "\n",
    "Answer-----\n",
    "int()\n",
    "float()\n",
    "str()"
   ]
  },
  {
   "cell_type": "markdown",
   "id": "222f599e",
   "metadata": {},
   "source": [
    "10. Why does this expression cause an error? How can you fix it?\n",
    "'I have eaten ' + 99 + ' burritos.'\n",
    "\n",
    "\n",
    "Answer----\n",
    "It causes error as we cannot cannot concatenate string and integer values together.We need to type cast."
   ]
  }
 ],
 "metadata": {
  "kernelspec": {
   "display_name": "Python 3 (ipykernel)",
   "language": "python",
   "name": "python3"
  },
  "language_info": {
   "codemirror_mode": {
    "name": "ipython",
    "version": 3
   },
   "file_extension": ".py",
   "mimetype": "text/x-python",
   "name": "python",
   "nbconvert_exporter": "python",
   "pygments_lexer": "ipython3",
   "version": "3.9.7"
  }
 },
 "nbformat": 4,
 "nbformat_minor": 5
}
