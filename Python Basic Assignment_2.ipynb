{
 "cells": [
  {
   "cell_type": "markdown",
   "id": "f66aaed7",
   "metadata": {},
   "source": [
    "1.What are the two values of the Boolean data type? How do you write them?\n",
    "\n",
    "Answer-------------\n",
    "\n",
    "true\n",
    "false\n",
    "\n",
    "so, we write them fr eg:-\n",
    "\n",
    "x=0\n",
    "y=1\n",
    "x<y\n",
    "    \n",
    "The output we will receive is true (which is a boolean)"
   ]
  },
  {
   "cell_type": "markdown",
   "id": "5e11b9ea",
   "metadata": {},
   "source": [
    "2. What are the three different types of Boolean operators?\n",
    "\n",
    "Answer----------\n",
    "\n",
    "AND\n",
    "OR\n",
    "NOT\n"
   ]
  },
  {
   "attachments": {},
   "cell_type": "markdown",
   "id": "64e154e0",
   "metadata": {},
   "source": [
    "3. Make a list of each Boolean operator's truth tables (i.e. every possible combination of Boolean\n",
    "values for the operator and what it evaluate ).\n",
    "\n",
    "ANSWER-------\n",
    "       \n",
    "         and\n",
    "\n",
    "A\t      B\t    A and B\n",
    "True\tTrue\t True\n",
    "False\tTrue\t False\n",
    "True\tFalse\t False\n",
    "False\tFalse\t False\n",
    "\n",
    "\n",
    "         or\n",
    "          \n",
    "A\t     B\t    A or B\n",
    "True\tTrue\t True\n",
    "False\tTrue\t True\n",
    "True\tFalse\t True\n",
    "False\tFalse\t False\n",
    "\n",
    "        not\n",
    "\n",
    "A\t    not A\n",
    "True\tFalse\n",
    "False\tTrue\n",
    "\n"
   ]
  },
  {
   "cell_type": "markdown",
   "id": "7d02fd2a",
   "metadata": {},
   "source": [
    "4. What are the values of the following expressions?\n",
    "(5 > 4) and (3 == 5)\n",
    "not (5 > 4)\n",
    "(5 > 4) or (3 == 5)\n",
    "not ((5 > 4) or (3 == 5))\n",
    "(True and True) and (True == False)\n",
    "(not False) or (not True)\n",
    "\n",
    "\n",
    "Answer-----\n",
    "\n",
    "(5 > 4) and (3 == 5)                       FALSE\n",
    "not (5 > 4)                                FALSE\n",
    "(5 > 4) or (3 == 5)                        TRUE\n",
    "not ((5 > 4) or (3 == 5))                  FALSE\n",
    "(True and True) and (True == False)        FALSE\n",
    "(not False) or (not True)                  TRUE\n"
   ]
  },
  {
   "cell_type": "markdown",
   "id": "5143719b",
   "metadata": {},
   "source": [
    "5. What are the six comparison operators?\n",
    "\n",
    "Answer-----\n",
    "\n",
    "\n",
    "Less than (<)\n",
    "Greater than (>)\n",
    "Less than or equal to (<=)\n",
    "Greater than or equal to (>=)\n",
    "Equal to (==)\n",
    "Not equal to (!=)\n",
    "\n",
    "\n",
    "\n"
   ]
  },
  {
   "cell_type": "markdown",
   "id": "162b7a56",
   "metadata": {},
   "source": [
    "6. How do you tell the difference between the equal to and assignment operators?Describe a\n",
    "condition and when you would use one.\n",
    "\n",
    "Answer-----\n",
    "The “=” is an assignment operator and is used to assign the value on the right to the variable on the left. The '==' operator checks whether the two given operands are equal or not. If so, it returns true. Otherwise it returns false.\n",
    "\n",
    "x=20 #Assignment   \n",
    "y=22 #Assignment \n",
    "\n",
    "if x+2==y:\n",
    "    print(\"I will get a job in 2022\") #Comparing Values with equal to operator\n",
    "\n",
    "\n"
   ]
  },
  {
   "cell_type": "markdown",
   "id": "2bb79650",
   "metadata": {},
   "source": [
    "7. Identify the three blocks in this code:\n",
    "spam = 0\n",
    "if spam == 10:\n",
    "print('eggs')\n",
    "if spam > 5:\n",
    "print('bacon')\n",
    "else:\n",
    "print('ham')\n",
    "print('spam')\n",
    "print('spam')\n",
    "\n",
    "Answer-----------\n",
    "\n",
    "\n",
    "spam = 0\n",
    "if spam == 10:\n",
    "    print('eggs')        # indent increased, block A\n",
    "    if spam > 5:         # still block A\n",
    "        print('bacon')   # still block A, indent increased, block B inside block A\n",
    "    else:                # still block A, indent decreased, block B ended in line above\n",
    "        print('ham')     # still block A, indent increased, block C inside block A\n",
    "    print('spam')        # still block A, indent decreased, block C ended in line above\n",
    "print('spam')            # indent decreased, block A ended in line above\n",
    "\n"
   ]
  },
  {
   "cell_type": "markdown",
   "id": "4cfeef5d",
   "metadata": {},
   "source": [
    "8. Write code that prints Hello if 1 is stored in spam, prints Howdy if 2 is stored in spam, and prints\n",
    "Greetings! if anything else is stored in spam.\n",
    "\n",
    "Answer-----\n",
    "\n",
    "spam=0\n",
    "if spam==1:\n",
    "    print(\"Hello\")\n",
    "elif spam==2:\n",
    "        print(\"Howdy\")\n",
    "else:\n",
    "        print(\"Greetings!\")\n"
   ]
  },
  {
   "cell_type": "markdown",
   "id": "169e5bac",
   "metadata": {},
   "source": [
    "9.If your programme is stuck in an endless loop, what keys you’ll press?\n",
    "\n",
    "\n",
    "Answer-----\n",
    "\n",
    "pressc ctrl+C in windows OS\n",
    "\n",
    "    "
   ]
  },
  {
   "cell_type": "markdown",
   "id": "7f66800a",
   "metadata": {},
   "source": [
    "10. How can you tell the difference between break and continue?\n",
    "\n",
    "Answer------\n",
    "\n",
    "\n",
    "The break statement will move the execution outside and just after a loop. The continue statement will move the execution to the start of the loop."
   ]
  },
  {
   "cell_type": "markdown",
   "id": "9367e512",
   "metadata": {},
   "source": [
    "11. In a for loop, what is the difference between range(10), range(0, 10), and range(0, 10, 1)?\n",
    "\n",
    "Answer-------\n",
    "\n",
    "They all do the same thing. \n",
    "The range(10) call ranges from 0 up to (but not including) 10, \n",
    "range(0,10) explicitly tells the loop to start at 0 upto 10 (excluding upper bound)\n",
    "range (0,10,1) explicitly tells the loop to increase the variable by 1 on each iteration.\n",
    "\n"
   ]
  },
  {
   "cell_type": "markdown",
   "id": "98a27efb",
   "metadata": {},
   "source": [
    "12. Write a short program that prints the numbers 1 to 10 using a for loop. Then write an equivalent\n",
    "program that prints the numbers 1 to 10 using a while loop.\n",
    "\n",
    "\n",
    "Answer------\n",
    "\n",
    "\n",
    "n=11\n",
    "for i in range(1,11,1):\n",
    "    if i<n:\n",
    "        print(i)\n",
    "    i=i+1\n",
    "    \n",
    "n=1\n",
    "while n<11:\n",
    "    print(n)\n",
    "    n+=1\n",
    "    \n"
   ]
  },
  {
   "cell_type": "markdown",
   "id": "b1ae3781",
   "metadata": {},
   "source": [
    "13. If you had a function named bacon() inside a module named spam, how would you call it after\n",
    "importing spam?\n",
    "\n",
    "\n",
    "Answer-----\n",
    "\n",
    "spam.bacon()"
   ]
  },
  {
   "cell_type": "code",
   "execution_count": null,
   "id": "b5e685fd",
   "metadata": {},
   "outputs": [],
   "source": []
  },
  {
   "cell_type": "code",
   "execution_count": null,
   "id": "9f1e80d7",
   "metadata": {},
   "outputs": [],
   "source": []
  },
  {
   "cell_type": "code",
   "execution_count": null,
   "id": "6adcbce8",
   "metadata": {},
   "outputs": [],
   "source": []
  },
  {
   "cell_type": "code",
   "execution_count": null,
   "id": "3aa2edcf",
   "metadata": {},
   "outputs": [],
   "source": []
  }
 ],
 "metadata": {
  "kernelspec": {
   "display_name": "Python 3 (ipykernel)",
   "language": "python",
   "name": "python3"
  },
  "language_info": {
   "codemirror_mode": {
    "name": "ipython",
    "version": 3
   },
   "file_extension": ".py",
   "mimetype": "text/x-python",
   "name": "python",
   "nbconvert_exporter": "python",
   "pygments_lexer": "ipython3",
   "version": "3.9.7"
  }
 },
 "nbformat": 4,
 "nbformat_minor": 5
}
